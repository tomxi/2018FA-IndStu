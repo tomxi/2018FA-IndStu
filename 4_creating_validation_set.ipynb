{
 "cells": [
  {
   "cell_type": "code",
   "execution_count": 49,
   "metadata": {},
   "outputs": [],
   "source": [
    "import os\n",
    "import numpy as np\n",
    "import pandas as pd\n",
    "from sklearn.model_selection import StratifiedShuffleSplit"
   ]
  },
  {
   "cell_type": "code",
   "execution_count": 50,
   "metadata": {},
   "outputs": [],
   "source": [
    "## load in train index and sparse labels\n",
    "DATA_ROOT = '/beegfs/qx244/ds/openmic-2018/'\n",
    "OPENMIC = np.load(os.path.join(DATA_ROOT, 'openmic-2018.npz'))\n",
    "Y_true, Y_mask, sample_key = OPENMIC['Y_true'], OPENMIC['Y_mask'], OPENMIC['sample_key']\n",
    "\n",
    "split_train = pd.read_csv(os.path.join(DATA_ROOT, 'partitions/split01_train.csv'),                         \n",
    "                          header=None, squeeze=True)\n",
    "split_test = pd.read_csv(os.path.join(DATA_ROOT, 'partitions/split01_test.csv'), \n",
    "                         header=None, squeeze=True)"
   ]
  },
  {
   "cell_type": "code",
   "execution_count": 51,
   "metadata": {},
   "outputs": [],
   "source": [
    "train_set = set(split_train)"
   ]
  },
  {
   "cell_type": "code",
   "execution_count": 52,
   "metadata": {},
   "outputs": [
    {
     "data": {
      "text/plain": [
       "True"
      ]
     },
     "execution_count": 52,
     "metadata": {},
     "output_type": "execute_result"
    }
   ],
   "source": [
    "\"117652_46080\" in train_set"
   ]
  },
  {
   "cell_type": "code",
   "execution_count": 53,
   "metadata": {},
   "outputs": [],
   "source": [
    "original_idx_train = []\n",
    "\n",
    "for idx, n in enumerate(sample_key):\n",
    "    if n in train_set:\n",
    "        original_idx_train.append(idx)"
   ]
  },
  {
   "cell_type": "code",
   "execution_count": 54,
   "metadata": {},
   "outputs": [],
   "source": [
    "## For each train sample, make it into multi-class lable (20+1) by taking the most confident sparse label as it's label. If no class have \n",
    "Y_masked = np.multiply(Y_true, Y_mask)\n",
    "train_sample_key = sample_key[original_idx_train]\n",
    "train_Y_masked = Y_masked[original_idx_train]\n",
    "train_single_label_Y = train_Y_masked.argmax(axis=1)"
   ]
  },
  {
   "cell_type": "code",
   "execution_count": 55,
   "metadata": {},
   "outputs": [
    {
     "data": {
      "text/plain": [
       "4603"
      ]
     },
     "execution_count": 55,
     "metadata": {},
     "output_type": "execute_result"
    }
   ],
   "source": [
    "negative_Y_idx = train_Y_masked.max(axis=1) < 0.5\n",
    "negative_Y_idx.sum()"
   ]
  },
  {
   "cell_type": "code",
   "execution_count": 56,
   "metadata": {},
   "outputs": [],
   "source": [
    "train_single_label_Y[negative_Y_idx] = 20 # 20 is the label for _negative"
   ]
  },
  {
   "cell_type": "code",
   "execution_count": 57,
   "metadata": {},
   "outputs": [
    {
     "data": {
      "text/plain": [
       "array([20, 19,  0,  0, 20,  0, 20, 19, 20, 12,  9, 20, 20, 10, 20, 12, 10,\n",
       "        0, 13,  0, 20, 17, 16, 20, 19, 11,  6,  6, 19, 20, 13,  6,  6,  9,\n",
       "       19, 19, 20, 20,  6, 20, 20, 20, 20,  5, 12,  2, 10,  9, 16, 20])"
      ]
     },
     "execution_count": 57,
     "metadata": {},
     "output_type": "execute_result"
    }
   ],
   "source": [
    "train_single_label_Y[:50]"
   ]
  },
  {
   "cell_type": "code",
   "execution_count": 58,
   "metadata": {},
   "outputs": [],
   "source": [
    "## Split the data using sklearn.model_selection.StratifiedShuffleSplit into validation and train set\n",
    "seed = 20181105\n",
    "splitter = StratifiedShuffleSplit(n_splits=1,\n",
    "                                  random_state=seed,\n",
    "                                  test_size=0.1)\n",
    "train_idx, val_idx = next(splitter.split(train_sample_key, train_single_label_Y))"
   ]
  },
  {
   "cell_type": "code",
   "execution_count": 59,
   "metadata": {},
   "outputs": [
    {
     "data": {
      "text/plain": [
       "(1492,)"
      ]
     },
     "execution_count": 59,
     "metadata": {},
     "output_type": "execute_result"
    }
   ],
   "source": [
    "val_idx.shape"
   ]
  },
  {
   "cell_type": "code",
   "execution_count": 60,
   "metadata": {},
   "outputs": [],
   "source": [
    "## save to disk\n",
    "df_train = pd.DataFrame(sample_key[original_idx_train][train_idx])\n",
    "df_train.to_csv(\"tom_partition/split_train.csv\", header=False, index=False)\n",
    "df_val = pd.DataFrame(sample_key[original_idx_train][val_idx])\n",
    "df_val.to_csv(\"tom_partition/split_val.csv\", header=False, index=False)\n",
    "df_test = split_test\n",
    "df_test.to_csv(\"tom_partition/split_test.csv\", header=False, index=False)"
   ]
  },
  {
   "cell_type": "code",
   "execution_count": 61,
   "metadata": {},
   "outputs": [],
   "source": [
    "train_set = set(sample_key[original_idx_train][train_idx])\n",
    "val_set = set(sample_key[original_idx_train][val_idx])"
   ]
  },
  {
   "cell_type": "code",
   "execution_count": 62,
   "metadata": {},
   "outputs": [
    {
     "data": {
      "text/plain": [
       "set()"
      ]
     },
     "execution_count": 62,
     "metadata": {},
     "output_type": "execute_result"
    }
   ],
   "source": [
    "train_set & val_set"
   ]
  },
  {
   "cell_type": "code",
   "execution_count": null,
   "metadata": {},
   "outputs": [],
   "source": []
  }
 ],
 "metadata": {
  "kernelspec": {
   "display_name": "Python [default]",
   "language": "python",
   "name": "python3"
  },
  "language_info": {
   "codemirror_mode": {
    "name": "ipython",
    "version": 3
   },
   "file_extension": ".py",
   "mimetype": "text/x-python",
   "name": "python",
   "nbconvert_exporter": "python",
   "pygments_lexer": "ipython3",
   "version": "3.6.6"
  }
 },
 "nbformat": 4,
 "nbformat_minor": 2
}
