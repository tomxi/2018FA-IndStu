{
 "cells": [
  {
   "cell_type": "code",
   "execution_count": 2,
   "metadata": {},
   "outputs": [
    {
     "name": "stderr",
     "output_type": "stream",
     "text": [
      "Using TensorFlow backend.\n"
     ]
    }
   ],
   "source": [
    "import numpy as np\n",
    "import os\n",
    "import json\n",
    "import pandas as pd\n",
    "\n",
    "import tom\n",
    "%reload_ext autoreload\n",
    "%autoreload 2"
   ]
  },
  {
   "cell_type": "code",
   "execution_count": 3,
   "metadata": {},
   "outputs": [],
   "source": [
    "DATA_ROOT = '/beegfs/qx244/ds/openmic-2018/'\n",
    "\n",
    "if not os.path.exists(DATA_ROOT):\n",
    "    raise ValueError('Did you forget to set `DATA_ROOT`?')\n",
    "    \n",
    "with np.load(os.path.join(DATA_ROOT, 'openmic-2018.npz')) as OPENMIC:\n",
    "    Y_true, Y_mask, sample_key = OPENMIC['Y_true'], OPENMIC['Y_mask'], OPENMIC['sample_key']\n",
    "with open(os.path.join(DATA_ROOT, 'class-map.json'), 'r') as f:\n",
    "    class_map = json.load(f)"
   ]
  },
  {
   "cell_type": "code",
   "execution_count": 4,
   "metadata": {},
   "outputs": [],
   "source": [
    "# Let's split the data into the training and test set\n",
    "# We use squeeze=True here to return a single array for each, rather than a full DataFrame\n",
    "split_train = pd.read_csv(os.path.join(DATA_ROOT, 'partitions/split01_train.csv'),       \n",
    "                          header=None, squeeze=True)\n",
    "split_test = pd.read_csv(os.path.join(DATA_ROOT, 'partitions/split01_test.csv'), \n",
    "                         header=None, squeeze=True)\n",
    "train_set = set(split_train)\n",
    "test_set = set(split_test)\n",
    "\n",
    "# These loops go through all sample keys, and save their row numbers\n",
    "# to either idx_train or idx_test\n",
    "#\n",
    "# This will be useful in the next step for slicing the array data\n",
    "idx_train, idx_test = [], []\n",
    "\n",
    "for idx, n in enumerate(sample_key):\n",
    "    if n in train_set:\n",
    "        idx_train.append(idx)\n",
    "    elif n in test_set:\n",
    "        idx_test.append(idx)\n",
    "    else:\n",
    "        # This should never happen, but better safe than sorry.\n",
    "        raise RuntimeError('Unknown sample key={}! Abort!'.format(sample_key[n]))\n",
    "        \n",
    "# Finally, cast the idx_* arrays to numpy structures\n",
    "idx_train = np.asarray(idx_train)\n",
    "idx_test = np.asarray(idx_test)"
   ]
  },
  {
   "cell_type": "code",
   "execution_count": 17,
   "metadata": {},
   "outputs": [],
   "source": [
    "model = tom.construct_crnnL3_smp_tom()\n",
    "\n",
    "model.compile(optimizer='adam',\n",
    "              loss='binary_crossentropy',\n",
    "              metrics=['accuracy'])"
   ]
  },
  {
   "cell_type": "code",
   "execution_count": 18,
   "metadata": {},
   "outputs": [],
   "source": [
    "np.random.shuffle(idx_train)\n",
    "np.random.shuffle(idx_test)\n",
    "\n",
    "batch_size = 16\n",
    "# train_size = 2000\n",
    "# test_size = 100\n",
    "train_gen = tom.MelGenerator(idx_train, batch_size=batch_size, DATA_ROOT=DATA_ROOT)\n",
    "test_gen = tom.MelGenerator(idx_test, batch_size=batch_size, DATA_ROOT=DATA_ROOT)"
   ]
  },
  {
   "cell_type": "code",
   "execution_count": 19,
   "metadata": {},
   "outputs": [
    {
     "name": "stdout",
     "output_type": "stream",
     "text": [
      "Epoch 1/5\n",
      "933/933 [==============================] - 974s 1s/step - loss: 0.1667 - acc: 0.9488 - val_loss: 0.6486 - val_acc: 0.9555\n",
      "Epoch 2/5\n",
      "933/933 [==============================] - 956s 1s/step - loss: 0.1242 - acc: 0.9580 - val_loss: 9.7888 - val_acc: 0.0657\n",
      "Epoch 3/5\n",
      "933/933 [==============================] - 955s 1s/step - loss: 0.1113 - acc: 0.9606 - val_loss: 0.5965 - val_acc: 0.7852\n",
      "Epoch 4/5\n",
      "933/933 [==============================] - 957s 1s/step - loss: 0.1033 - acc: 0.9620 - val_loss: 0.4882 - val_acc: 0.9549\n",
      "Epoch 5/5\n",
      "933/933 [==============================] - 953s 1s/step - loss: 0.0987 - acc: 0.9632 - val_loss: 0.1796 - val_acc: 0.9543\n"
     ]
    },
    {
     "data": {
      "text/plain": [
       "<keras.callbacks.History at 0x2b170045a588>"
      ]
     },
     "execution_count": 19,
     "metadata": {},
     "output_type": "execute_result"
    }
   ],
   "source": [
    "model.fit_generator(\n",
    "    generator=train_gen,\n",
    "    epochs=5,\n",
    "    validation_data=test_gen)"
   ]
  },
  {
   "cell_type": "code",
   "execution_count": 20,
   "metadata": {},
   "outputs": [
    {
     "name": "stdout",
     "output_type": "stream",
     "text": [
      "Saved model to disk\n"
     ]
    }
   ],
   "source": [
    "# serialize model to JSON\n",
    "model_json = model.to_json()\n",
    "with open(\"model_5epoch.json\", \"w\") as json_file:\n",
    "    json_file.write(model_json)\n",
    "# serialize weights to HDF5\n",
    "model.save_weights(\"model_5epoch.h5\")\n",
    "print(\"Saved model to disk\")"
   ]
  }
 ],
 "metadata": {
  "kernelspec": {
   "display_name": "Python [default]",
   "language": "python",
   "name": "python3"
  },
  "language_info": {
   "codemirror_mode": {
    "name": "ipython",
    "version": 3
   },
   "file_extension": ".py",
   "mimetype": "text/x-python",
   "name": "python",
   "nbconvert_exporter": "python",
   "pygments_lexer": "ipython3",
   "version": "3.6.6"
  }
 },
 "nbformat": 4,
 "nbformat_minor": 2
}
