{
 "cells": [
  {
   "cell_type": "code",
   "execution_count": 1,
   "metadata": {},
   "outputs": [
    {
     "name": "stderr",
     "output_type": "stream",
     "text": [
      "Using TensorFlow backend.\n"
     ]
    }
   ],
   "source": [
    "import numpy as np\n",
    "import os\n",
    "import json\n",
    "import pandas as pd\n",
    "from keras.callbacks import ModelCheckpoint, EarlyStopping\n",
    "\n",
    "import tom\n",
    "%reload_ext autoreload\n",
    "%autoreload 2"
   ]
  },
  {
   "cell_type": "code",
   "execution_count": 2,
   "metadata": {},
   "outputs": [],
   "source": [
    "DATA_ROOT = '/beegfs/qx244/ds/openmic-2018/'\n",
    "\n",
    "if not os.path.exists(DATA_ROOT):\n",
    "    raise ValueError('Did you forget to set `DATA_ROOT`?')\n",
    "    \n",
    "with np.load(os.path.join(DATA_ROOT, 'openmic-2018.npz')) as OPENMIC:\n",
    "    Y_true, Y_mask, sample_key = OPENMIC['Y_true'], OPENMIC['Y_mask'], OPENMIC['sample_key']\n",
    "with open(os.path.join(DATA_ROOT, 'class-map.json'), 'r') as f:\n",
    "    class_map = json.load(f)"
   ]
  },
  {
   "cell_type": "code",
   "execution_count": 3,
   "metadata": {},
   "outputs": [],
   "source": [
    "# Let's split the data into the training and test set\n",
    "# We use squeeze=True here to return a single array for each, rather than a full DataFrame\n",
    "split_train = pd.read_csv('tom_partition/split_train.csv', squeeze=True, header=None)\n",
    "split_test = pd.read_csv('tom_partition/split_test.csv', squeeze=True, header=None)\n",
    "split_val = pd.read_csv('tom_partition/split_val.csv', squeeze=True, header=None)"
   ]
  },
  {
   "cell_type": "code",
   "execution_count": 4,
   "metadata": {},
   "outputs": [
    {
     "data": {
      "text/plain": [
       "20000"
      ]
     },
     "execution_count": 4,
     "metadata": {},
     "output_type": "execute_result"
    }
   ],
   "source": [
    "split_train.shape[0] + split_test.shape[0] + split_val.shape[0]"
   ]
  },
  {
   "cell_type": "code",
   "execution_count": 5,
   "metadata": {},
   "outputs": [],
   "source": [
    "\n",
    "val_set = set(split_val)\n",
    "train_set = set(split_train)\n",
    "test_set = set(split_test)\n",
    "\n",
    "# These loops go through all sample keys, and save their row numbers\n",
    "# to either idx_train or idx_test\n",
    "#\n",
    "# This will be useful in the next step for slicing the array data\n",
    "idx_train, idx_test, idx_val = [], [], []\n",
    "\n",
    "for idx, n in enumerate(sample_key):\n",
    "    if n in train_set:\n",
    "        idx_train.append(idx)\n",
    "    elif n in test_set:\n",
    "        idx_test.append(idx)\n",
    "    elif n in val_set:\n",
    "        idx_val.append(idx)\n",
    "    else:\n",
    "        # This should never happen, but better safe than sorry.\n",
    "        raise RuntimeError('Unknown sample key={}! Abort!'.format(n))\n",
    "        \n",
    "# Finally, cast the idx_* arrays to numpy structures\n",
    "idx_train = np.asarray(idx_train)\n",
    "idx_test = np.asarray(idx_test)\n",
    "idx_val = np.asarray(idx_val)"
   ]
  },
  {
   "cell_type": "code",
   "execution_count": 10,
   "metadata": {},
   "outputs": [],
   "source": [
    "early_stopping_cb = EarlyStopping(monitor='val_acc',\n",
    "                                  patience=3, \n",
    "                                  verbose=1, \n",
    "                                  mode='max', \n",
    "                                  restore_best_weights=True)\n",
    "\n",
    "checkpoint_cb = ModelCheckpoint('saved_models/model_chkpt.{epoch:02d}-{val_acc:.4f}.hdf5', \n",
    "                                monitor='val_acc', \n",
    "                                verbose=0, \n",
    "                                save_best_only=True, \n",
    "                                mode='max', period=1)\n",
    "\n",
    "cbs = [early_stopping_cb, checkpoint_cb]"
   ]
  },
  {
   "cell_type": "code",
   "execution_count": 13,
   "metadata": {},
   "outputs": [],
   "source": [
    "np.random.shuffle(idx_train)\n",
    "np.random.shuffle(idx_test)\n",
    "np.random.shuffle(idx_val)\n",
    "\n",
    "batch_size = 16\n",
    "train_gen = tom.MelGenerator(idx_train[:1600], batch_size=batch_size, DATA_ROOT=DATA_ROOT)\n",
    "val_gen = tom.MelGenerator(idx_val, batch_size=batch_size, DATA_ROOT=DATA_ROOT)\n",
    "test_gen = tom.MelGenerator(idx_test, batch_size=batch_size, DATA_ROOT=DATA_ROOT)"
   ]
  },
  {
   "cell_type": "code",
   "execution_count": 14,
   "metadata": {},
   "outputs": [],
   "source": [
    "model = tom.construct_crnnL3_smp_tom()\n",
    "\n",
    "model.compile(optimizer='adam',\n",
    "              loss='binary_crossentropy',\n",
    "              metrics=['accuracy'])"
   ]
  },
  {
   "cell_type": "code",
   "execution_count": 15,
   "metadata": {},
   "outputs": [
    {
     "name": "stdout",
     "output_type": "stream",
     "text": [
      "Epoch 1/500\n",
      "100/100 [==============================] - 51s 510ms/step - loss: 0.3091 - acc: 0.8923 - val_loss: 0.2852 - val_acc: 0.9023\n",
      "Epoch 2/500\n",
      "100/100 [==============================] - 48s 482ms/step - loss: 0.1801 - acc: 0.9529 - val_loss: 0.2673 - val_acc: 0.9059\n",
      "Epoch 3/500\n",
      "100/100 [==============================] - 48s 482ms/step - loss: 0.1615 - acc: 0.9548 - val_loss: 0.2850 - val_acc: 0.9499\n",
      "Epoch 4/500\n",
      "100/100 [==============================] - 48s 482ms/step - loss: 0.1506 - acc: 0.9549 - val_loss: 0.5888 - val_acc: 0.9531\n",
      "Epoch 5/500\n",
      "100/100 [==============================] - 48s 482ms/step - loss: 0.1433 - acc: 0.9554 - val_loss: 0.5069 - val_acc: 0.9259\n",
      "Epoch 6/500\n",
      "100/100 [==============================] - 48s 482ms/step - loss: 0.1402 - acc: 0.9555 - val_loss: 0.4602 - val_acc: 0.9533\n",
      "Epoch 7/500\n",
      "100/100 [==============================] - 48s 482ms/step - loss: 0.1330 - acc: 0.9557 - val_loss: 0.7149 - val_acc: 0.9174\n",
      "Epoch 8/500\n",
      "100/100 [==============================] - 48s 483ms/step - loss: 0.1293 - acc: 0.9564 - val_loss: 1.0326 - val_acc: 0.8992\n",
      "Epoch 9/500\n",
      "100/100 [==============================] - 48s 483ms/step - loss: 0.1243 - acc: 0.9564 - val_loss: 3.8497 - val_acc: 0.4626\n",
      "Restoring model weights from the end of the best epoch\n",
      "Epoch 00009: early stopping\n"
     ]
    },
    {
     "data": {
      "text/plain": [
       "<keras.callbacks.History at 0x2b3a8fd7f160>"
      ]
     },
     "execution_count": 15,
     "metadata": {},
     "output_type": "execute_result"
    }
   ],
   "source": [
    "model.fit_generator(\n",
    "    generator=train_gen,\n",
    "    epochs=500,\n",
    "    validation_data=val_gen,\n",
    "    callbacks=cbs)"
   ]
  },
  {
   "cell_type": "code",
   "execution_count": 16,
   "metadata": {},
   "outputs": [
    {
     "name": "stdout",
     "output_type": "stream",
     "text": [
      "318/318 [==============================] - 104s 329ms/step\n"
     ]
    },
    {
     "data": {
      "text/plain": [
       "[0.4774095987148341, 0.9509734444679178]"
      ]
     },
     "execution_count": 16,
     "metadata": {},
     "output_type": "execute_result"
    }
   ],
   "source": [
    "model.evaluate_generator(test_gen, verbose=1)"
   ]
  },
  {
   "cell_type": "code",
   "execution_count": 20,
   "metadata": {},
   "outputs": [
    {
     "name": "stdout",
     "output_type": "stream",
     "text": [
      "Saved model to disk\n"
     ]
    }
   ],
   "source": [
    "# serialize model to JSON\n",
    "model_json = model.to_json()\n",
    "with open(\"model_5epoch.json\", \"w\") as json_file:\n",
    "    json_file.write(model_json)\n",
    "# serialize weights to HDF5\n",
    "model.save_weights(\"model_5epoch.h5\")\n",
    "print(\"Saved model to disk\")"
   ]
  }
 ],
 "metadata": {
  "kernelspec": {
   "display_name": "Python [default]",
   "language": "python",
   "name": "python3"
  },
  "language_info": {
   "codemirror_mode": {
    "name": "ipython",
    "version": 3
   },
   "file_extension": ".py",
   "mimetype": "text/x-python",
   "name": "python",
   "nbconvert_exporter": "python",
   "pygments_lexer": "ipython3",
   "version": "3.6.6"
  }
 },
 "nbformat": 4,
 "nbformat_minor": 2
}
